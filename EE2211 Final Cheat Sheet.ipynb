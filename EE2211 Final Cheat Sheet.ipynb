{
 "cells": [
  {
   "cell_type": "code",
   "execution_count": 12,
   "id": "783f7337-e675-453b-9906-6b3bac4bc4ea",
   "metadata": {},
   "outputs": [
    {
     "name": "stdout",
     "output_type": "stream",
     "text": [
      "[[-10.41257051]\n",
      " [  1.21434327]]\n",
      "[26.01772764]\n"
     ]
    }
   ],
   "source": [
    "#Lecture 5 Linear Regression \n",
    "#calculate the regression (with bias inclusion), Least Squares Solution (Overdetermined system)\n",
    "import numpy as np\n",
    "X = np.array([[1,36],[1,26],[1,35],[1,39],[1,26],[1,30],[1,31],[1,38],[1,36],[1,38],[1,26],[1,26]]) #with bias inclusion\n",
    "y = np.array([[31],[20],[34],[35],[20],[30],[30],[38],[34],[33],[20],[20]])\n",
    "\n",
    "#Least Squares Solution (m > d)\n",
    "w = np.linalg.pinv(X.T @ X) @ X.T @ y \n",
    "print(w)\n",
    "\n",
    "#finding the y value from x = 30 \n",
    "x_test = [1,30] #with bias inclusion\n",
    "y_pred = x_test @ w\n",
    "print(y_pred)"
   ]
  },
  {
   "cell_type": "code",
   "execution_count": 13,
   "id": "ced90749-0814-4303-a554-5097f4f4ce72",
   "metadata": {},
   "outputs": [
    {
     "name": "stdout",
     "output_type": "stream",
     "text": [
      "[[-0.14285714]\n",
      " [ 0.52380952]\n",
      " [-0.47619048]\n",
      " [ 0.61904762]]\n",
      "[[3.33333333]]\n"
     ]
    }
   ],
   "source": [
    "#Lecture 5 Linear Regression\n",
    "#calculate the regression (with bias inclusion), Least Norm Solution (Underdetermined system)\n",
    "import numpy as np\n",
    "X = np.array([[1,1,0,1],[1,2,-1,1],[1,1,1,5]]) #with bias inclusion\n",
    "y = np.array([[1],[2],[3]])\n",
    "\n",
    "#Least Norm Solution (m < d)\n",
    "w = X.T @ np.linalg.pinv(X @ X.T) @ y\n",
    "print(w)\n",
    "\n",
    "#finding the y value from x = [-1,2,8]\n",
    "x_test = np.array([[1,-1,2,8]])  #with bias inclusion\n",
    "y_pred = x_test @ w\n",
    "print(y_pred)"
   ]
  },
  {
   "cell_type": "code",
   "execution_count": 14,
   "id": "33adec11-54d9-4037-85d4-423b5b13a145",
   "metadata": {},
   "outputs": [
    {
     "name": "stdout",
     "output_type": "stream",
     "text": [
      "[-0.0989011]\n"
     ]
    }
   ],
   "source": [
    "#Lecture 6 Binary Classification for Linear Regression\n",
    "import numpy as np\n",
    "X = np.array([[1,-7], [1,-5], [1,1], [1,5]])  #with bias inclusion\n",
    "y = np.array([[-1], [-1], [1], [1]]) #Binary Classification\n",
    "\n",
    "#finding the value of w (Using Least Square Solution)\n",
    "w = np.linalg.pinv(X.T @ X) @ X.T @ y\n",
    "\n",
    "#finding the y value from x = -2\n",
    "y_pred = np.array([1,-2]) @ w #with bias inclusion\n",
    "print(y_pred)"
   ]
  },
  {
   "cell_type": "code",
   "execution_count": 2,
   "id": "93212dd5-2ee4-4a97-8186-a6599cc9eb0f",
   "metadata": {},
   "outputs": [
    {
     "name": "stdout",
     "output_type": "stream",
     "text": [
      "[[-0.09375]]\n"
     ]
    }
   ],
   "source": [
    "#Lecture 6 Binary Classification for Polynomial Regression\n",
    "import numpy as np \n",
    "from sklearn.preprocessing import PolynomialFeatures \n",
    "\n",
    "X = np.array([[-7], [-5], [1], [5]]) \n",
    "y = np.array([[-1], [-1], [1], [1]]) #Binary Classification\n",
    "\n",
    "#creating the P matrix \n",
    "poly = PolynomialFeatures(degree = 3)\n",
    "P = poly.fit_transform(X)\n",
    "\n",
    "#finding the value of w (Using Least Square Solution)  \n",
    "w = np.linalg.pinv(P.T @ P) @ P.T @ y\n",
    "\n",
    "#finding the y value from x = -2\n",
    "X_t = np.array([[-2]])\n",
    "P_t = poly.fit_transform(X_t)\n",
    "y_t_pred = P_t @ w\n",
    "print(y_t_pred) #class 2"
   ]
  },
  {
   "cell_type": "code",
   "execution_count": 16,
   "id": "d018ea56",
   "metadata": {},
   "outputs": [
    {
     "name": "stdout",
     "output_type": "stream",
     "text": [
      "[[ 0.47798742  0.33333333  0.18867925]\n",
      " [-0.64989518  0.55555556  0.09433962]]\n",
      "[[0.54297694 0.27777778 0.17924528]\n",
      " [0.21802935 0.55555556 0.22641509]]\n"
     ]
    }
   ],
   "source": [
    "#Lecture 6 Multiclass Linear Regression\n",
    "import numpy as np\n",
    "\n",
    "X = np.array([[1,-1],[1,0],[1,0.5],[1,0.3],[1,0.8]]) #with bias inclusion\n",
    "y = np.array([[1,0,0],[1,0,0],[0,1,0],[0,0,1],[0,1,0]]) #One Hot Encoding\n",
    "\n",
    "#Overdetermined System (Least Squares Solution - Primal Form)\n",
    "w = np.linalg.pinv(X.T @ X) @ X.T @ y \n",
    "print(w)\n",
    "\n",
    "#Find y_pred with x = -0.1 and x = 0.4\n",
    "x_test = np.array([[1,-0.1],[1,0.4]]) #with bias inclusion\n",
    "y_pred = x_test @ w\n",
    "print(y_pred)\n"
   ]
  },
  {
   "cell_type": "code",
   "execution_count": 17,
   "id": "38e0b77e-6faf-48f9-b12e-d5bfd8a413d0",
   "metadata": {},
   "outputs": [
    {
     "name": "stdout",
     "output_type": "stream",
     "text": [
      "[[    1.   -10.   100. -1000.]\n",
      " [    1.    -8.    64.  -512.]\n",
      " [    1.    -3.     9.   -27.]\n",
      " [    1.    -1.     1.    -1.]\n",
      " [    1.     2.     4.     8.]\n",
      " [    1.     8.    64.   512.]]\n",
      "[[ 2.68935636]\n",
      " [-0.37722517]\n",
      " [ 0.01343815]\n",
      " [ 0.00285772]]\n",
      "[[2.46609771]]\n"
     ]
    }
   ],
   "source": [
    "#Lecture 6 Polynomial Regression\n",
    "import numpy as np \n",
    "from sklearn.preprocessing import PolynomialFeatures \n",
    "\n",
    "X = np.array([[-10],[-8],[-3],[-1],[2],[8]])\n",
    "y = np.array([[5],[5],[4],[3],[2],[2]])\n",
    "\n",
    "#Create Polynomial Matrix of 3rd Order\n",
    "poly = PolynomialFeatures(degree = 3)\n",
    "P = poly.fit_transform(X)\n",
    "print(P)\n",
    "\n",
    "#Overdetermined System (Least Squares Solution -- Primal Form)\n",
    "w = np.linalg.pinv(P.T @ P) @ P.T @ y \n",
    "print(w)\n",
    "\n",
    "#Find y_pred with x = 9\n",
    "P_t = poly.fit_transform(np.array([[9]]))\n",
    "y_pred = P_t @ w\n",
    "print(y_pred)"
   ]
  },
  {
   "cell_type": "code",
   "execution_count": 1,
   "id": "159fcdae-335e-474a-b953-2583c170ec9c",
   "metadata": {},
   "outputs": [
    {
     "name": "stdout",
     "output_type": "stream",
     "text": [
      "[[ 1.      -1.       1.      -1.       1.      -1.     ]\n",
      " [ 1.       0.       0.       0.       0.       0.     ]\n",
      " [ 1.       0.5      0.25     0.125    0.0625   0.03125]\n",
      " [ 1.       0.3      0.09     0.027    0.0081   0.00243]\n",
      " [ 1.       0.8      0.64     0.512    0.4096   0.32768]]\n",
      "[[ 1.00000000e+00  6.03961325e-14 -1.13686838e-13]\n",
      " [-5.30313768e+00 -3.70234958e+00  9.00548727e+00]\n",
      " [ 5.21976232e+00  1.08728407e+01 -1.60926030e+01]\n",
      " [ 6.66624941e+00  9.46978846e+00 -1.61360379e+01]\n",
      " [-6.47651463e+00 -1.29098961e+01  1.93864107e+01]\n",
      " [-2.61986403e+00 -7.80449422e+00  1.04243583e+01]]\n",
      "[[ 1.57522369  0.46828063 -1.04350432]]\n",
      "[[-0.05207932  0.45436978  0.59770954]]\n"
     ]
    }
   ],
   "source": [
    "#Lecture 6 Multiclass Polynomial Regression\n",
    "import numpy as np\n",
    "from sklearn.preprocessing import PolynomialFeatures \n",
    "\n",
    "X = np.array([[-1],[0],[0.5],[0.3],[0.8]])\n",
    "y = np.array([[1,0,0],[1,0,0],[0,1,0],[0,0,1],[0,1,0]]) #One Hot Encoding\n",
    "\n",
    "#Create Polynomial Matrix of 5th Order\n",
    "poly = PolynomialFeatures(degree = 5)\n",
    "P = poly.fit_transform(X)\n",
    "print(P)\n",
    "\n",
    "#Underdetermined System (Least Norm Solution -- Dual Form)\n",
    "w = P.T @ np.linalg.pinv(P @ P.T) @ y\n",
    "print(w)\n",
    "\n",
    "#Find y_pred with x = -0.1\n",
    "P_t = poly.fit_transform(np.array([[-0.1]]))\n",
    "y_pred = P_t @ w\n",
    "print(y_pred) #class 1\n",
    "\n",
    "#Find y_pred with x = 0.4\n",
    "P_t = poly.fit_transform(np.array([[0.4]]))\n",
    "y_pred = P_t @ w\n",
    "print(y_pred) #class 3"
   ]
  },
  {
   "cell_type": "code",
   "execution_count": null,
   "id": "36137ba0-7391-4be2-9ad9-0742eae30c35",
   "metadata": {},
   "outputs": [],
   "source": [
    "#Lecture 7 - Regularizaion (NOTE: Regularisation is Ridge Regression (can be either linear or polynomial) with lambda value) \n",
    "#Linear \n",
    "n_p_feature = X.shape[1]\n",
    "lam = 1 #take lambda value = 1\n",
    "\n",
    "#Primal Form -- Least Square Solution \n",
    "w = np.linalg.pinv(X.T @ X + lam*np.eye(n_p_feature)) @ X.T @ y #lam*np.eye(X.shape[1]) and X.shape[1] is the number of columns \n",
    "\n",
    "#Dual Form -- Least Norm Solution\n",
    "w = X.T @ np.linalg.pinv(X @ X.T + lam*np.eye(n_p_feature)) @ y\n",
    "\n",
    "#Polynomial\n",
    "poly = PolynomialFeatures(degree = 3)\n",
    "P = poly.fit_transform(X)\n",
    "n_p_feature = P.shape[1]\n",
    "lam = 1 #take lambda value = 1 \n",
    "\n",
    "#Primal Form -- Least Square Solution\n",
    "w = np.linalg.pinv(P.T @ P + lam*np.eye(n_p_feature)) @ P.T @ y\n",
    "\n",
    "#Dual Form -- Least Norm Solution\n",
    "w = P.T @ np.linalg.pinv(P @ P.T + lam*np.eye(n_p_feature)) @ y\n",
    "                         \n",
    "#Finding Mean Squared Error (MSE)\n",
    "#Linear \n",
    "mse = ((X @ w - y)**2).mean()\n",
    "#Polynomial                         \n",
    "mse = ((P @ w - y)**2).mean()\n",
    "\n",
    "#Finding Mean Squared Error (MSE) Regression Tree\n",
    "y = [2.1,1.5,5.8,6.1]\n",
    "y_avg = (2.1+1.5+5.8+6.1)/4 \n",
    "summation = 0  #variable to store the summation of differences\n",
    "n = len(y) #finding total number of items in list\n",
    "\n",
    "for i in range (0,n):  #looping through each element of the list\n",
    "  difference = y[i] - y_avg  #finding the difference between observed and predicted value\n",
    "  squared_difference = difference**2  #taking square of the differene \n",
    "  summation = summation + squared_difference  #taking a sum of all the differences\n",
    "MSE = summation/n  #dividing summation by total values to obtain average\n",
    "print(\"The Mean Square Error is: \" , MSE)"
   ]
  },
  {
   "cell_type": "code",
   "execution_count": 22,
   "id": "83c43032-cc53-45c6-8fb6-ce92774c6730",
   "metadata": {},
   "outputs": [
    {
     "name": "stdout",
     "output_type": "stream",
     "text": [
      "order= 1\n",
      "2.307072925398156\n",
      "3.0006478167488586\n",
      "order= 2\n",
      "0.008440835471198298\n",
      "0.02959458575040356\n",
      "order= 3\n",
      "0.008302615907049145\n",
      "0.030111281823541596\n",
      "order= 4\n",
      "0.0017347778137363492\n",
      "0.0853550203947103\n",
      "order= 5\n",
      "1.7634234267466466e-21\n",
      "1.054823986764473\n",
      "order= 6\n",
      "1.4781923101220727e-17\n",
      "10.76736645005596\n"
     ]
    }
   ],
   "source": [
    "#Lecture 7 Without using Regularization\n",
    "import numpy as np\n",
    "from sklearn.preprocessing import PolynomialFeatures\n",
    "import matplotlib.pyplot as plt\n",
    "\n",
    "X_train = np.array([-10, -8, -3, -1, 2, 7]).reshape(6,1)\n",
    "y_train = np.array([4.18, 2.42, 0.22, 0.12, 0.25, 3.09]).reshape(6,1)\n",
    "\n",
    "X_test = np.array([-9, -7, -5, -4, -2, 1, 4, 5, 6, 9]).reshape(10,1)\n",
    "y_test = np.array([3, 1.81, 0.8, 0.25, -0.19, 0.4, 1.24, 1.68, 2.32, 5.05]).reshape(10,1)\n",
    "\n",
    "all_mse_train = []\n",
    "all_mse_test = []\n",
    "for order in range(1, 7): #for polynomial model from orders 1 to 6\n",
    "    print('order=', order)\n",
    "    # transform original features with polynomial features\n",
    "    poly = PolynomialFeatures(degree=order)\n",
    "    P_train = poly.fit_transform(X_train)\n",
    "    P_test = poly.fit_transform(X_test)\n",
    "    \n",
    "    # fitting the data (primal form - least square solution as m > d'for orders 1 to 5)\n",
    "    if P_train.shape[0] >= P_train.shape[1]: #shape[0] is no. of rows, m and shape[1] is #no.of columns, d:\n",
    "        w = np.linalg.pinv(P_train.T @ P_train) @ P_train.T @ y_train\n",
    "    \n",
    "    else: # fitting the data (dual form - least norm solution as m < d' for order 6)\n",
    "        w = P_train.T @ np.linalg.inv(P_train @ P_train.T) @ y_train\n",
    "    \n",
    "    # calculating mean square error on train set\n",
    "    mse_train = ((P_train @ w - y_train)**2).mean()\n",
    "    all_mse_train.append(mse_train)\n",
    "    print(mse_train)\n",
    "    \n",
    "    # calculating mean square error on test set\n",
    "    mse_test = ((P_test @ w - y_test)**2).mean()\n",
    "    all_mse_test.append(mse_test)\n",
    "    print(mse_test)"
   ]
  },
  {
   "cell_type": "code",
   "execution_count": 25,
   "id": "1311c78d-cc1b-4f80-b36c-2e8bda0a72c8",
   "metadata": {},
   "outputs": [
    {
     "name": "stdout",
     "output_type": "stream",
     "text": [
      "order= 1\n",
      "2.35855310111971\n",
      "3.2755677280832303\n",
      "order= 2\n",
      "0.008456477077018463\n",
      "0.030169873887064186\n",
      "order= 3\n",
      "0.008356013483799609\n",
      "0.03141714830425051\n",
      "order= 4\n",
      "0.00180797622242259\n",
      "0.09393142698432255\n",
      "order= 5\n",
      "0.0007264963731876362\n",
      "0.4368968007760148\n",
      "order= 6\n",
      "0.00019347847340282298\n",
      "6.020236369328505\n"
     ]
    }
   ],
   "source": [
    "#Lecture 7 - To prevent overfitting, use Regularization (ridge regression), lambda = 1\n",
    "import numpy as np\n",
    "from sklearn.preprocessing import PolynomialFeatures\n",
    "import matplotlib.pyplot as plt\n",
    "\n",
    "X_train = np.array([-10, -8, -3, -1, 2, 7]).reshape(6,1)\n",
    "y_train = np.array([4.18, 2.42, 0.22, 0.12, 0.25, 3.09]).reshape(6,1)\n",
    "\n",
    "X_test = np.array([-9, -7, -5, -4, -2, 1, 4, 5, 6, 9]).reshape(10,1)\n",
    "y_test = np.array([3, 1.81, 0.8, 0.25, -0.19, 0.4, 1.24, 1.68, 2.32, 5.05]).reshape(10,1)\n",
    "\n",
    "all_mse_train = []\n",
    "all_mse_test = []\n",
    "\n",
    "lam = 1.0\n",
    "for order in range(1, 7):\n",
    "    print('order=', order)\n",
    "    # transform original features with polynomial features\n",
    "    poly = PolynomialFeatures(degree=order)\n",
    "    P_train = poly.fit_transform(X_train)\n",
    "    P_test = poly.fit_transform(X_test)\n",
    "    n_p_feature = P_train.shape[1]\n",
    "\n",
    "    # fitting the data\n",
    "    w = np.linalg.pinv(P_train.T @ P_train + lam*np.eye(n_p_feature)) @ P_train.T @ y_train\n",
    "    \n",
    "    # calculating mean square error on train set\n",
    "    mse_train = ((P_train @ w - y_train)**2).mean()\n",
    "    all_mse_train.append(mse_train)\n",
    "    print(mse_train)\n",
    "    \n",
    "    # calculating mean square error on test set\n",
    "    mse_test = ((P_test @ w - y_test)**2).mean()\n",
    "    all_mse_test.append(mse_test)\n",
    "    print(mse_test)"
   ]
  },
  {
   "cell_type": "code",
   "execution_count": 24,
   "id": "f78584ed-b88d-4381-8b52-c004bb2488ad",
   "metadata": {},
   "outputs": [
    {
     "name": "stdout",
     "output_type": "stream",
     "text": [
      "Training accuracy:  0.9916666666666667\n",
      "Test accuracy:  1.0\n"
     ]
    },
    {
     "data": {
      "image/png": "[encoded data removed]",
      "text/plain": [
       "<Figure size 640x480 with 1 Axes>"
      ]
     },
     "metadata": {},
     "output_type": "display_data"
    }
   ],
   "source": [
    "#Lecture 9 - Decision Tree\n",
    "from sklearn.datasets import load_iris\n",
    "from sklearn import tree\n",
    "from sklearn.model_selection import train_test_split\n",
    "from sklearn import metrics\n",
    "import matplotlib.pyplot as plt\n",
    "    \n",
    "def Tut9_Q4_yeo():\n",
    "    \n",
    "    # load data\n",
    "    iris_dataset = load_iris()\n",
    "    \n",
    "    # Split dataset into 80% samples for training and 20% samples for testing \n",
    "    X_train, X_test, y_train, y_test = train_test_split(iris_dataset['data'], \n",
    "                                                        iris_dataset['target'], \n",
    "                                                        test_size=0.20, \n",
    "                                                        random_state=0)\n",
    "    \n",
    "    # Train a decision tree clasifier with maximum depth of 4 based on entropy criterion\n",
    "    dtree = tree.DecisionTreeClassifier(criterion='entropy', max_depth=4)\n",
    "    dtree = dtree.fit(X_train, y_train)\n",
    "    \n",
    "    # Predict\n",
    "    y_trainpred = dtree.predict(X_train)\n",
    "    y_testpred = dtree.predict(X_test)\n",
    "    \n",
    "    # Computing training and test accuracies\n",
    "    print(\"Training accuracy: \", metrics.accuracy_score(y_train, y_trainpred))\n",
    "    print(\"Test accuracy: \", metrics.accuracy_score(y_test, y_testpred))    \n",
    "\n",
    "    # Plot tree\n",
    "    tree.plot_tree(dtree)\n",
    "    \n",
    "if __name__ == '__main__':\n",
    "    Tut9_Q4_yeo()"
   ]
  },
  {
   "cell_type": "code",
   "execution_count": 6,
   "id": "d6062d93-907f-46a6-945d-4c99e5d1ea2b",
   "metadata": {},
   "outputs": [
    {
     "name": "stdout",
     "output_type": "stream",
     "text": [
      "[[1.  1. ]\n",
      " [0.  0.5]]\n"
     ]
    }
   ],
   "source": [
    "#Lecture 11 K-Means Clustering \n",
    "#x = [1,1] and y = [0,1] and z = [0,0]. The k-means algorithm is initialise with centres x and y. Upon convergence, the two centres will be at \n",
    "from sklearn.cluster import KMeans\n",
    "import numpy as np\n",
    "\n",
    "X = np.array([[1,1], [0,1], [0,0]])\n",
    "\n",
    "kmeans = KMeans(n_clusters=2, random_state=0, init=np.array([[1,1],[0,1]]), n_init=1).fit(X)\n",
    "print(kmeans.cluster_centers_)\n",
    "\n",
    "#answer: x and the midpoint of y and z"
   ]
  },
  {
   "cell_type": "code",
   "execution_count": 8,
   "id": "9ed8d0bd-601f-460e-9a34-5588b8d52ef0",
   "metadata": {},
   "outputs": [
    {
     "name": "stdout",
     "output_type": "stream",
     "text": [
      "PearsonRResult(statistic=0.6509901032456192, pvalue=0.2341173463313287)\n"
     ]
    }
   ],
   "source": [
    "#Pearson's Correlation Formula\n",
    "import scipy.stats\n",
    "import numpy as np\n",
    "\n",
    "x = np.array([3.3459,1.0893,3.2103,1.744,1.6762])\n",
    "y = np.array([2.9972,1.1399,2.228,0.3387,2.5042])\n",
    "print(scipy.stats.pearsonr(x,y)) #statistic value gives Pearson's coeff"
   ]
  },
  {
   "cell_type": "code",
   "execution_count": 3,
   "id": "d5c5c5e7-db13-4afe-8b51-834b08242163",
   "metadata": {},
   "outputs": [
    {
     "name": "stdout",
     "output_type": "stream",
     "text": [
      "0.8189493848246799\n"
     ]
    }
   ],
   "source": [
    "#Cumulative Density Function\n",
    "from scipy import stats\n",
    "mu = 30\n",
    "sigma = 1.8\n",
    "lower_bound = 28\n",
    "upper_bound = 33\n",
    "\n",
    "p_lower = stats.norm.cdf(lower_bound, mu, sigma)\n",
    "p_upper = stats.norm.cdf(upper_bound, mu, sigma)\n",
    "prob = p_upper - p_lower\n",
    "print(prob)"
   ]
  },
  {
   "cell_type": "code",
   "execution_count": null,
   "id": "0adc6f23-5218-4ae5-8f5d-ba2263992008",
   "metadata": {},
   "outputs": [],
   "source": []
  }
 ],
 "metadata": {
  "kernelspec": {
   "display_name": "Python 3 (ipykernel)",
   "language": "python",
   "name": "python3"
  },
  "language_info": {
   "codemirror_mode": {
    "name": "ipython",
    "version": 3
   },
   "file_extension": ".py",
   "mimetype": "text/x-python",
   "name": "python",
   "nbconvert_exporter": "python",
   "pygments_lexer": "ipython3",
   "version": "3.9.13"
  }
 },
 "nbformat": 4,
 "nbformat_minor": 5
}
